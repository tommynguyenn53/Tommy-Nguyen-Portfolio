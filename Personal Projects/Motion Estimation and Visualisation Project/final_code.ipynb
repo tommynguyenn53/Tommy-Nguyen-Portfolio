{
 "cells": [
  {
   "metadata": {},
   "cell_type": "markdown",
   "source": [
    "# This is a sample Jupyter Notebook\n",
    "\n",
    "Below is an example of a code cell. \n",
    "Put your cursor into the cell and press Shift+Enter to execute it and select the next one, or click !here goes the icon of the corresponding button in the gutter! button.\n",
    "To debug a cell, press Alt+Shift+Enter, or click !here goes the icon of the corresponding button in the gutter! button.\n",
    "\n",
    "Press Double Shift to search everywhere for classes, files, tool windows, actions, and settings.\n",
    "\n",
    "To learn more about Jupyter Notebooks in PyCharm, see [help](https://www.jetbrains.com/help/pycharm/jupyter-notebook-support.html).\n",
    "For an overview of PyCharm, go to Help -> Learn IDE features or refer to [our documentation](https://www.jetbrains.com/help/pycharm/getting-started.html)."
   ],
   "id": "8a77807f92f26ee"
  },
  {
   "metadata": {
    "ExecuteTime": {
     "end_time": "2024-09-23T04:42:42.434477Z",
     "start_time": "2024-09-23T04:42:42.129082Z"
    }
   },
   "cell_type": "code",
   "source": [
    "import cv2\n",
    "import numpy as np\n",
    "import math"
   ],
   "id": "fbc121e30a2defb3",
   "outputs": [],
   "execution_count": 1
  },
  {
   "metadata": {
    "ExecuteTime": {
     "end_time": "2024-09-23T04:42:42.437634Z",
     "start_time": "2024-09-23T04:42:42.435590Z"
    }
   },
   "cell_type": "code",
   "source": [
    "def calculate_ssd(block1, block2):\n",
    "    ssd = np.sum((block1 - block2) ** 2)\n",
    "    return np.sqrt(ssd)"
   ],
   "id": "401d7bd7d1a0dbec",
   "outputs": [],
   "execution_count": 2
  },
  {
   "metadata": {
    "ExecuteTime": {
     "end_time": "2024-09-23T04:42:42.441151Z",
     "start_time": "2024-09-23T04:42:42.438477Z"
    }
   },
   "cell_type": "code",
   "source": [
    "def calculate_motion_vector(source_block, search_window, k):\n",
    "    min_ssd = float('inf')\n",
    "    best_vector = (0, 0)\n",
    "    block_size = source_block.shape[0]\n",
    "\n",
    "    for dy in range(search_window.shape[0] - block_size + 1):\n",
    "        for dx in range(search_window.shape[1] - block_size + 1):\n",
    "            candidate_block = search_window[dy:dy + block_size, dx:dx + block_size]\n",
    "            ssd = calculate_ssd(source_block, candidate_block)\n",
    "            if ssd < min_ssd:\n",
    "                min_ssd = ssd\n",
    "                best_vector = (dx - k, dy - k)\n",
    "\n",
    "    return best_vector, min_ssd"
   ],
   "id": "5d756aa4605fd4eb",
   "outputs": [],
   "execution_count": 3
  },
  {
   "metadata": {
    "ExecuteTime": {
     "end_time": "2024-09-23T04:42:42.445890Z",
     "start_time": "2024-09-23T04:42:42.442595Z"
    }
   },
   "cell_type": "code",
   "source": [
    "def arrow_draw(img, x1, y1, x2, y2):\n",
    "    radians = math.atan2(x1 - x2, y2 - y1)\n",
    "    x11 = 0\n",
    "    y11 = 0\n",
    "    x12 = -10\n",
    "    y12 = -10\n",
    "\n",
    "    u11 = 0\n",
    "    v11 = 0\n",
    "    u12 = 10\n",
    "    v12 = -10\n",
    "\n",
    "    x11_ = x11 * math.cos(radians) - y11 * math.sin(radians) + x2\n",
    "    y11_ = x11 * math.sin(radians) + y11 * math.cos(radians) + y2\n",
    "\n",
    "    x12_ = x12 * math.cos(radians) - y12 * math.sin(radians) + x2\n",
    "    y12_ = x12 * math.sin(radians) + y12 * math.cos(radians) + y2\n",
    "\n",
    "    u11_ = u11 * math.cos(radians) - v11 * math.sin(radians) + x2\n",
    "    v11_ = u11 * math.sin(radians) + v11 * math.cos(radians) + y2\n",
    "\n",
    "    u12_ = u12 * math.cos(radians) - v12 * math.sin(radians) + x2\n",
    "    v12_ = u12 * math.sin(radians) + v12 * math.cos(radians) + y2\n",
    "\n",
    "    if all(isinstance(v, (int, float)) for v in [x1, y1, x2, y2, x11_, y11_, x12_, y12_, u11_, v11_, u12_, v12_]):\n",
    "        img = cv2.line(img, (int(x1), int(y1)), (int(x2), int(y2)), (255, 0, 0), 5)\n",
    "        img = cv2.line(img, (int(x11_), int(y11_)), (int(x12_), int(y12_)), (255, 0, 0), 5)\n",
    "        img = cv2.line(img, (int(u11_), int(v11_)), (int(u12_), int(v12_)), (255, 0, 0), 5)\n",
    "    else:\n",
    "        print(\"Error: Some coordinates are not valid numbers.\")\n",
    "\n",
    "    return img\n"
   ],
   "id": "8cdbe6953d910869",
   "outputs": [],
   "execution_count": 4
  },
  {
   "metadata": {
    "ExecuteTime": {
     "end_time": "2024-09-23T04:42:42.449335Z",
     "start_time": "2024-09-23T04:42:42.446862Z"
    }
   },
   "cell_type": "code",
   "source": [
    "def visualise_displacement_vectors(frame, displacement_matrix, ssd_matrix, Tmin, Tmax, k):\n",
    "    for i in range(displacement_matrix.shape[0]):\n",
    "        for j in range(displacement_matrix.shape[1]):\n",
    "            sqrt_ssd = np.sqrt(ssd_matrix[i, j])\n",
    "            if Tmin <= sqrt_ssd <= Tmax:\n",
    "                x_displacement, y_displacement = displacement_matrix[i, j]\n",
    "                \n",
    "                x = i * (2 * k + 1) + (2 * k + 1) // 2\n",
    "                y = j * (2 * k + 1) + (2 * k + 1) // 2\n",
    "                \n",
    "                frame = arrow_draw(frame, x, y, x + x_displacement, y + y_displacement)\n",
    "                \n",
    "    return frame"
   ],
   "id": "537cced609a4dcc4",
   "outputs": [],
   "execution_count": 5
  },
  {
   "metadata": {
    "ExecuteTime": {
     "start_time": "2024-09-23T04:42:42.450105Z"
    }
   },
   "cell_type": "code",
   "source": [
    "video_path = 'monkey.avi'\n",
    "cap = cv2.VideoCapture(video_path)\n",
    "\n",
    "k = 4\n",
    "block_size = 2 * k + 1\n",
    "search_window_size = 15\n",
    "\n",
    "Tmin = 10.0  \n",
    "Tmax = 200.0 \n",
    "\n",
    "ret, prev_frame = cap.read()\n",
    "\n",
    "if ret:\n",
    "    fx, fy, _ = prev_frame.shape\n",
    "    displacement_vectors = np.zeros((fx // block_size, fy // block_size, 2))\n",
    "    ssd_matrix = np.zeros((fx // block_size, fy // block_size))\n",
    "\n",
    "frame_number = 1\n",
    "\n",
    "while cap.isOpened():\n",
    "    ret, frame = cap.read()\n",
    "    \n",
    "    if not ret:\n",
    "        break\n",
    "    \n",
    "    fx, fy, _ = frame.shape\n",
    "\n",
    "    for i in range(k, fx - k, block_size):\n",
    "        for j in range(k, fy - k, block_size):\n",
    "            block_index_x = (i - k) // block_size\n",
    "            block_index_y = (j - k) // block_size\n",
    "\n",
    "            source_block = prev_frame[i - k:i + k + 1, j - k:j + k + 1]\n",
    "\n",
    "            search_window = frame[max(0, i - search_window_size):min(fx, i + search_window_size + 1),\n",
    "                                  max(0, j - search_window_size):min(fy, j + search_window_size + 1)]\n",
    "\n",
    "            motion_vector, ssd = calculate_motion_vector(source_block, search_window, k)\n",
    "            \n",
    "            if Tmin <= ssd <= Tmax:\n",
    "                displacement_vector = (motion_vector[1], motion_vector[0])\n",
    "            else:\n",
    "                displacement_vector = (0, 0) \n",
    "\n",
    "            displacement_vectors[block_index_x, block_index_y] = displacement_vector\n",
    "            ssd_matrix[block_index_x, block_index_y] = ssd\n",
    "    \n",
    "    visualised_frame = visualise_displacement_vectors(frame, displacement_vectors, ssd_matrix, Tmin, Tmax, k)\n",
    "\n",
    "    cv2.imshow('Displacement Vectors', visualised_frame)\n",
    "    \n",
    "    if cv2.waitKey(1) & 0xFF == ord('q'):\n",
    "        break\n",
    "    \n",
    "    prev_frame = frame.copy()\n",
    "    frame_number += 1\n",
    "\n",
    "cap.release()\n",
    "cv2.destroyAllWindows()"
   ],
   "id": "50319f7a8f1f2a9e",
   "outputs": [],
   "execution_count": null
  }
 ],
 "metadata": {
  "kernelspec": {
   "display_name": "Python 3",
   "language": "python",
   "name": "python3"
  },
  "language_info": {
   "codemirror_mode": {
    "name": "ipython",
    "version": 2
   },
   "file_extension": ".py",
   "mimetype": "text/x-python",
   "name": "python",
   "nbconvert_exporter": "python",
   "pygments_lexer": "ipython2",
   "version": "2.7.6"
  }
 },
 "nbformat": 4,
 "nbformat_minor": 5
}
